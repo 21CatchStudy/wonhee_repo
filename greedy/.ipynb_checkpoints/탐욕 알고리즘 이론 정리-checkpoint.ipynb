{
 "cells": [
  {
   "cell_type": "markdown",
   "id": "0e14a224",
   "metadata": {},
   "source": [
    "### Chapter 03 그리디\n",
    "> 현재 상황에서 가장 좋아 보이는 것만을 선택하는 알고리즘\n",
    "\n",
    "#### 1. 그리디?\n",
    "- 탐욕 알고리즘 이라고 불림\n",
    "- 현재 상황에서 지금 당장 좋은 것만 고르는 방법\n",
    "- 최적의 해에 가까운 값을 구하기 위해 사용됨\n",
    "- 여러 경우 중 하나를 결정해야할 때마다, 매 순간 최적이라고 생각되는 경우를 선택하는 방식으로 진행해서, 최종적인 값을 구하는 방식\n",
    "- 현재의 선택이 나중에 미칠 영향에 대해서는 고려하지 않는다.\n",
    "\n",
    "#### 2. 그리디 알고리즘의 유형?\n",
    "- 창의력,문제를 풀기 위한 최소한의 아이디어를 떠올릴 수 있는 능력,을 요구\n",
    "- 특정한 문제를 만났을 때 단순히 현재 상황에서 가장 좋아보이는 것만을 선택해도 문제를 풀 수 있는지 파악 가능해야 한다.\n",
    "- 문제에서 '가장 큰 순서대로', '가장 작은 순서대로' 와 같은 기준을 제시해주는 경우가 있다.\n",
    "\n",
    "#### 3. 그리디 알고리즘의 한계\n",
    "- 그리디는 근사치 추정에 활용\n",
    "- 반드시 최적의 해를 구할 수 있는 것은 아니기 때문\n",
    "- 최적의 해에 가까운 값을 구하는 방법 중 하나일 뿐"
   ]
  },
  {
   "cell_type": "markdown",
   "id": "cd6ec201",
   "metadata": {},
   "source": [
    "### 예제) 백준 1541 잃어버린 괄호"
   ]
  },
  {
   "cell_type": "code",
   "execution_count": 9,
   "id": "68929f06",
   "metadata": {},
   "outputs": [],
   "source": [
    "def lost(data):\n",
    "    data = input().split('-')\n",
    "    result = 0\n",
    "    \n",
    "    for i in data[0].split('+'):\n",
    "        result += int(i)\n",
    "    for i in data[1:]:\n",
    "        for j in i.split('+'):\n",
    "            result -= int(j)\n",
    "    \n",
    "    return result"
   ]
  },
  {
   "cell_type": "code",
   "execution_count": 14,
   "id": "df9599fd",
   "metadata": {},
   "outputs": [
    {
     "name": "stdout",
     "output_type": "stream",
     "text": [
      "55-50+40\n"
     ]
    },
    {
     "data": {
      "text/plain": [
       "-35"
      ]
     },
     "execution_count": 14,
     "metadata": {},
     "output_type": "execute_result"
    }
   ],
   "source": [
    "lost(55-50+40)"
   ]
  },
  {
   "cell_type": "markdown",
   "id": "ff8ac3e5",
   "metadata": {},
   "source": [
    "### 고려한 점\n",
    "\n",
    "처음 코드는 \n",
    "```for d in data:\n",
    "    for i in d.split('+'):\n",
    "        result += i```\n",
    "로 +연산에 관련된 i만을 더해주려고 했음. \n",
    "\n",
    "결과 : 주어진 모든 값이 더해짐 ❌"
   ]
  },
  {
   "cell_type": "markdown",
   "id": "cad4c22c",
   "metadata": {},
   "source": [
    "#### 수정한 점\n",
    "1 input값을 '-'로 split해서 받아왔기 때문에 첫 부분의 덧셈은 그대로 진행\n",
    "\n",
    "2.첫 부분 이후에는 뺄셈으로 최종 결과값을 최솟값으로 만들어주기"
   ]
  },
  {
   "cell_type": "code",
   "execution_count": null,
   "id": "de77f9fd",
   "metadata": {},
   "outputs": [],
   "source": [
    "# 첫번째 수정\n",
    "for i in data[0].split('+'):\n",
    "    result += int(i)\n",
    "for i in data[1:].split('-'):\n",
    "    result -= int(i)\n",
    "'''\n",
    "for i in data[1:].split('-'):\n",
    "AttributeError: 'list' object has no attribute 'split'\n",
    "'''\n",
    "\n",
    "# 두번째 수정 ⇒ 성공\n",
    "for i in data[0].split('+'):\n",
    "    result += int(i)\n",
    "for i in data[1:]:\n",
    "    for j in i.split('-'):\n",
    "        result -= int(j)"
   ]
  }
 ],
 "metadata": {
  "kernelspec": {
   "display_name": "Python 3",
   "language": "python",
   "name": "python3"
  },
  "language_info": {
   "codemirror_mode": {
    "name": "ipython",
    "version": 3
   },
   "file_extension": ".py",
   "mimetype": "text/x-python",
   "name": "python",
   "nbconvert_exporter": "python",
   "pygments_lexer": "ipython3",
   "version": "3.8.8"
  }
 },
 "nbformat": 4,
 "nbformat_minor": 5
}
